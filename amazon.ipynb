{
 "cells": [
  {
   "cell_type": "code",
   "execution_count": 7,
   "id": "70449fa0-876a-46ae-974e-1558c5f94638",
   "metadata": {},
   "outputs": [],
   "source": [
    "import pandas as pd\n",
    "import math\n",
    "import scipy.stats as st\n",
    "import numpy as np\n",
    "\n",
    "\n",
    "pd.set_option('display.max_columns', None)\n",
    "pd.set_option('display.width', 500)\n",
    "pd.set_option('display.expand_frame_repr', False)\n",
    "pd.set_option('display.float_format', lambda x: '%.5f' % x)\n",
    "\n",
    "import warnings\n",
    "warnings.filterwarnings(\"ignore\")"
   ]
  },
  {
   "cell_type": "code",
   "execution_count": 2,
   "id": "1d8a06de-5571-488a-9d52-d135ec016f7f",
   "metadata": {},
   "outputs": [],
   "source": [
    "data = pd.read_csv(\"amazon_review.csv\")\n",
    "\n",
    "df = data.copy()"
   ]
  },
  {
   "cell_type": "code",
   "execution_count": 3,
   "id": "14462434-8be3-4a2f-ae34-edbc9e3e0df1",
   "metadata": {},
   "outputs": [
    {
     "data": {
      "text/html": [
       "<div>\n",
       "<style scoped>\n",
       "    .dataframe tbody tr th:only-of-type {\n",
       "        vertical-align: middle;\n",
       "    }\n",
       "\n",
       "    .dataframe tbody tr th {\n",
       "        vertical-align: top;\n",
       "    }\n",
       "\n",
       "    .dataframe thead th {\n",
       "        text-align: right;\n",
       "    }\n",
       "</style>\n",
       "<table border=\"1\" class=\"dataframe\">\n",
       "  <thead>\n",
       "    <tr style=\"text-align: right;\">\n",
       "      <th></th>\n",
       "      <th>reviewerID</th>\n",
       "      <th>asin</th>\n",
       "      <th>reviewerName</th>\n",
       "      <th>helpful</th>\n",
       "      <th>reviewText</th>\n",
       "      <th>overall</th>\n",
       "      <th>summary</th>\n",
       "      <th>unixReviewTime</th>\n",
       "      <th>reviewTime</th>\n",
       "      <th>day_diff</th>\n",
       "      <th>helpful_yes</th>\n",
       "      <th>total_vote</th>\n",
       "    </tr>\n",
       "  </thead>\n",
       "  <tbody>\n",
       "    <tr>\n",
       "      <th>0</th>\n",
       "      <td>A3SBTW3WS4IQSN</td>\n",
       "      <td>B007WTAJTO</td>\n",
       "      <td>NaN</td>\n",
       "      <td>[0, 0]</td>\n",
       "      <td>No issues.</td>\n",
       "      <td>4.00000</td>\n",
       "      <td>Four Stars</td>\n",
       "      <td>1406073600</td>\n",
       "      <td>2014-07-23</td>\n",
       "      <td>138</td>\n",
       "      <td>0</td>\n",
       "      <td>0</td>\n",
       "    </tr>\n",
       "    <tr>\n",
       "      <th>1</th>\n",
       "      <td>A18K1ODH1I2MVB</td>\n",
       "      <td>B007WTAJTO</td>\n",
       "      <td>0mie</td>\n",
       "      <td>[0, 0]</td>\n",
       "      <td>Purchased this for my device, it worked as adv...</td>\n",
       "      <td>5.00000</td>\n",
       "      <td>MOAR SPACE!!!</td>\n",
       "      <td>1382659200</td>\n",
       "      <td>2013-10-25</td>\n",
       "      <td>409</td>\n",
       "      <td>0</td>\n",
       "      <td>0</td>\n",
       "    </tr>\n",
       "    <tr>\n",
       "      <th>2</th>\n",
       "      <td>A2FII3I2MBMUIA</td>\n",
       "      <td>B007WTAJTO</td>\n",
       "      <td>1K3</td>\n",
       "      <td>[0, 0]</td>\n",
       "      <td>it works as expected. I should have sprung for...</td>\n",
       "      <td>4.00000</td>\n",
       "      <td>nothing to really say....</td>\n",
       "      <td>1356220800</td>\n",
       "      <td>2012-12-23</td>\n",
       "      <td>715</td>\n",
       "      <td>0</td>\n",
       "      <td>0</td>\n",
       "    </tr>\n",
       "    <tr>\n",
       "      <th>3</th>\n",
       "      <td>A3H99DFEG68SR</td>\n",
       "      <td>B007WTAJTO</td>\n",
       "      <td>1m2</td>\n",
       "      <td>[0, 0]</td>\n",
       "      <td>This think has worked out great.Had a diff. br...</td>\n",
       "      <td>5.00000</td>\n",
       "      <td>Great buy at this price!!!  *** UPDATE</td>\n",
       "      <td>1384992000</td>\n",
       "      <td>2013-11-21</td>\n",
       "      <td>382</td>\n",
       "      <td>0</td>\n",
       "      <td>0</td>\n",
       "    </tr>\n",
       "    <tr>\n",
       "      <th>4</th>\n",
       "      <td>A375ZM4U047O79</td>\n",
       "      <td>B007WTAJTO</td>\n",
       "      <td>2&amp;amp;1/2Men</td>\n",
       "      <td>[0, 0]</td>\n",
       "      <td>Bought it with Retail Packaging, arrived legit...</td>\n",
       "      <td>5.00000</td>\n",
       "      <td>best deal around</td>\n",
       "      <td>1373673600</td>\n",
       "      <td>2013-07-13</td>\n",
       "      <td>513</td>\n",
       "      <td>0</td>\n",
       "      <td>0</td>\n",
       "    </tr>\n",
       "  </tbody>\n",
       "</table>\n",
       "</div>"
      ],
      "text/plain": [
       "       reviewerID        asin  reviewerName helpful                                         reviewText  overall                                 summary  unixReviewTime  reviewTime  day_diff  helpful_yes  total_vote\n",
       "0  A3SBTW3WS4IQSN  B007WTAJTO           NaN  [0, 0]                                         No issues.  4.00000                              Four Stars      1406073600  2014-07-23       138            0           0\n",
       "1  A18K1ODH1I2MVB  B007WTAJTO          0mie  [0, 0]  Purchased this for my device, it worked as adv...  5.00000                           MOAR SPACE!!!      1382659200  2013-10-25       409            0           0\n",
       "2  A2FII3I2MBMUIA  B007WTAJTO           1K3  [0, 0]  it works as expected. I should have sprung for...  4.00000               nothing to really say....      1356220800  2012-12-23       715            0           0\n",
       "3   A3H99DFEG68SR  B007WTAJTO           1m2  [0, 0]  This think has worked out great.Had a diff. br...  5.00000  Great buy at this price!!!  *** UPDATE      1384992000  2013-11-21       382            0           0\n",
       "4  A375ZM4U047O79  B007WTAJTO  2&amp;1/2Men  [0, 0]  Bought it with Retail Packaging, arrived legit...  5.00000                        best deal around      1373673600  2013-07-13       513            0           0"
      ]
     },
     "execution_count": 3,
     "metadata": {},
     "output_type": "execute_result"
    }
   ],
   "source": [
    "df.head()"
   ]
  },
  {
   "cell_type": "code",
   "execution_count": 4,
   "id": "1a1f2a3b-362f-4dec-907f-dc4061f87472",
   "metadata": {},
   "outputs": [],
   "source": [
    "def missing_values_analysis(df):\n",
    "    na_columns_ = [col for col in df.columns if df[col].isnull().sum() > 0]\n",
    "    n_miss = df[na_columns_].isnull().sum().sort_values(ascending=True)\n",
    "    ratio_ = (df[na_columns_].isnull().sum() / df.shape[0] * 100).sort_values(ascending=True)\n",
    "    missing_df = pd.concat([n_miss, np.round(ratio_, 2)], axis=1, keys=['Total Missing Values', 'Ratio'])\n",
    "    missing_df = pd.DataFrame(missing_df)\n",
    "    return missing_df"
   ]
  },
  {
   "cell_type": "code",
   "execution_count": 8,
   "id": "d946e326-eacf-4c72-b466-a470d456aa3f",
   "metadata": {},
   "outputs": [],
   "source": [
    "# Let's define the auxiliary functions that we will use in the study\n",
    "def check_df(df, head=5):\n",
    "    print(\"--------------------- Shape ---------------------\")\n",
    "    print(df.shape)\n",
    "\n",
    "    print(\"---------------------- Types --------------------\")\n",
    "    print(df.dtypes)\n",
    "\n",
    "    print(\"--------------------- Head ---------------------\")\n",
    "    print(df.head(head))\n",
    "\n",
    "    print(\"--------------------- Missing Value Analysis ---------------------\")\n",
    "    print(missing_values_analysis(df))\n",
    "\n",
    "    print(\"--------------------- Quantiles ---------------------\")\n",
    "    print(df.quantile([0, 0.05, 0.50, 0.95, 0.99, 1]).T)"
   ]
  },
  {
   "cell_type": "code",
   "execution_count": 9,
   "id": "ea628f6b-d852-4c8b-9282-cfbe6b58c0ee",
   "metadata": {},
   "outputs": [
    {
     "name": "stdout",
     "output_type": "stream",
     "text": [
      "--------------------- Shape ---------------------\n",
      "(4915, 12)\n",
      "---------------------- Types --------------------\n",
      "reviewerID         object\n",
      "asin               object\n",
      "reviewerName       object\n",
      "helpful            object\n",
      "reviewText         object\n",
      "overall           float64\n",
      "summary            object\n",
      "unixReviewTime      int64\n",
      "reviewTime         object\n",
      "day_diff            int64\n",
      "helpful_yes         int64\n",
      "total_vote          int64\n",
      "dtype: object\n",
      "--------------------- Head ---------------------\n",
      "       reviewerID        asin  reviewerName helpful                                         reviewText  overall                                 summary  unixReviewTime  reviewTime  day_diff  helpful_yes  total_vote\n",
      "0  A3SBTW3WS4IQSN  B007WTAJTO           NaN  [0, 0]                                         No issues.  4.00000                              Four Stars      1406073600  2014-07-23       138            0           0\n",
      "1  A18K1ODH1I2MVB  B007WTAJTO          0mie  [0, 0]  Purchased this for my device, it worked as adv...  5.00000                           MOAR SPACE!!!      1382659200  2013-10-25       409            0           0\n",
      "2  A2FII3I2MBMUIA  B007WTAJTO           1K3  [0, 0]  it works as expected. I should have sprung for...  4.00000               nothing to really say....      1356220800  2012-12-23       715            0           0\n",
      "3   A3H99DFEG68SR  B007WTAJTO           1m2  [0, 0]  This think has worked out great.Had a diff. br...  5.00000  Great buy at this price!!!  *** UPDATE      1384992000  2013-11-21       382            0           0\n",
      "4  A375ZM4U047O79  B007WTAJTO  2&amp;1/2Men  [0, 0]  Bought it with Retail Packaging, arrived legit...  5.00000                        best deal around      1373673600  2013-07-13       513            0           0\n",
      "--------------------- Missing Value Analysis ---------------------\n",
      "              Total Missing Values   Ratio\n",
      "reviewerName                     1 0.02000\n",
      "reviewText                       1 0.02000\n",
      "--------------------- Quantiles ---------------------\n",
      "                        0.00000          0.05000          0.50000          0.95000          0.99000          1.00000\n",
      "overall                 1.00000          2.00000          5.00000          5.00000          5.00000          5.00000\n",
      "unixReviewTime 1339200000.00000 1354492800.00000 1381276800.00000 1403308800.00000 1404950400.00000 1406073600.00000\n",
      "day_diff                1.00000         98.00000        431.00000        748.00000        943.00000       1064.00000\n",
      "helpful_yes             0.00000          0.00000          0.00000          1.00000          3.00000       1952.00000\n",
      "total_vote              0.00000          0.00000          0.00000          1.00000          4.00000       2020.00000\n"
     ]
    }
   ],
   "source": [
    "check_df(df)"
   ]
  },
  {
   "cell_type": "code",
   "execution_count": 5,
   "id": "dababc04-3c5d-4c4c-88f6-cee5e2890584",
   "metadata": {},
   "outputs": [
    {
     "data": {
      "text/plain": [
       "(4915, 12)"
      ]
     },
     "execution_count": 5,
     "metadata": {},
     "output_type": "execute_result"
    }
   ],
   "source": [
    "df.shape"
   ]
  },
  {
   "cell_type": "code",
   "execution_count": 6,
   "id": "d38b417f-8b7e-4782-b1b0-6b5d1bd6b412",
   "metadata": {},
   "outputs": [
    {
     "name": "stdout",
     "output_type": "stream",
     "text": [
      "<class 'pandas.core.frame.DataFrame'>\n",
      "RangeIndex: 4915 entries, 0 to 4914\n",
      "Data columns (total 12 columns):\n",
      " #   Column          Non-Null Count  Dtype  \n",
      "---  ------          --------------  -----  \n",
      " 0   reviewerID      4915 non-null   object \n",
      " 1   asin            4915 non-null   object \n",
      " 2   reviewerName    4914 non-null   object \n",
      " 3   helpful         4915 non-null   object \n",
      " 4   reviewText      4914 non-null   object \n",
      " 5   overall         4915 non-null   float64\n",
      " 6   summary         4915 non-null   object \n",
      " 7   unixReviewTime  4915 non-null   int64  \n",
      " 8   reviewTime      4915 non-null   object \n",
      " 9   day_diff        4915 non-null   int64  \n",
      " 10  helpful_yes     4915 non-null   int64  \n",
      " 11  total_vote      4915 non-null   int64  \n",
      "dtypes: float64(1), int64(4), object(7)\n",
      "memory usage: 460.9+ KB\n"
     ]
    }
   ],
   "source": [
    "df.info()"
   ]
  },
  {
   "cell_type": "raw",
   "id": "a12f8c29-d312-4041-ac48-e55a96909b97",
   "metadata": {},
   "source": [
    "-- Veri setinde eksik gozlem bulunmuyor. "
   ]
  },
  {
   "cell_type": "code",
   "execution_count": 8,
   "id": "de43b978-2cd3-49ba-9d61-6d11c8d16b5a",
   "metadata": {},
   "outputs": [
    {
     "data": {
      "text/html": [
       "<div>\n",
       "<style scoped>\n",
       "    .dataframe tbody tr th:only-of-type {\n",
       "        vertical-align: middle;\n",
       "    }\n",
       "\n",
       "    .dataframe tbody tr th {\n",
       "        vertical-align: top;\n",
       "    }\n",
       "\n",
       "    .dataframe thead th {\n",
       "        text-align: right;\n",
       "    }\n",
       "</style>\n",
       "<table border=\"1\" class=\"dataframe\">\n",
       "  <thead>\n",
       "    <tr style=\"text-align: right;\">\n",
       "      <th></th>\n",
       "      <th>count</th>\n",
       "      <th>mean</th>\n",
       "      <th>std</th>\n",
       "      <th>min</th>\n",
       "      <th>25%</th>\n",
       "      <th>50%</th>\n",
       "      <th>75%</th>\n",
       "      <th>max</th>\n",
       "    </tr>\n",
       "  </thead>\n",
       "  <tbody>\n",
       "    <tr>\n",
       "      <th>overall</th>\n",
       "      <td>4915.00000</td>\n",
       "      <td>4.58759</td>\n",
       "      <td>0.99685</td>\n",
       "      <td>1.00000</td>\n",
       "      <td>5.00000</td>\n",
       "      <td>5.00000</td>\n",
       "      <td>5.00000</td>\n",
       "      <td>5.00000</td>\n",
       "    </tr>\n",
       "    <tr>\n",
       "      <th>unixReviewTime</th>\n",
       "      <td>4915.00000</td>\n",
       "      <td>1379465001.66836</td>\n",
       "      <td>15818574.32275</td>\n",
       "      <td>1339200000.00000</td>\n",
       "      <td>1365897600.00000</td>\n",
       "      <td>1381276800.00000</td>\n",
       "      <td>1392163200.00000</td>\n",
       "      <td>1406073600.00000</td>\n",
       "    </tr>\n",
       "    <tr>\n",
       "      <th>day_diff</th>\n",
       "      <td>4915.00000</td>\n",
       "      <td>437.36704</td>\n",
       "      <td>209.43987</td>\n",
       "      <td>1.00000</td>\n",
       "      <td>281.00000</td>\n",
       "      <td>431.00000</td>\n",
       "      <td>601.00000</td>\n",
       "      <td>1064.00000</td>\n",
       "    </tr>\n",
       "    <tr>\n",
       "      <th>helpful_yes</th>\n",
       "      <td>4915.00000</td>\n",
       "      <td>1.31109</td>\n",
       "      <td>41.61916</td>\n",
       "      <td>0.00000</td>\n",
       "      <td>0.00000</td>\n",
       "      <td>0.00000</td>\n",
       "      <td>0.00000</td>\n",
       "      <td>1952.00000</td>\n",
       "    </tr>\n",
       "    <tr>\n",
       "      <th>total_vote</th>\n",
       "      <td>4915.00000</td>\n",
       "      <td>1.52146</td>\n",
       "      <td>44.12309</td>\n",
       "      <td>0.00000</td>\n",
       "      <td>0.00000</td>\n",
       "      <td>0.00000</td>\n",
       "      <td>0.00000</td>\n",
       "      <td>2020.00000</td>\n",
       "    </tr>\n",
       "  </tbody>\n",
       "</table>\n",
       "</div>"
      ],
      "text/plain": [
       "                    count             mean            std              min              25%              50%              75%              max\n",
       "overall        4915.00000          4.58759        0.99685          1.00000          5.00000          5.00000          5.00000          5.00000\n",
       "unixReviewTime 4915.00000 1379465001.66836 15818574.32275 1339200000.00000 1365897600.00000 1381276800.00000 1392163200.00000 1406073600.00000\n",
       "day_diff       4915.00000        437.36704      209.43987          1.00000        281.00000        431.00000        601.00000       1064.00000\n",
       "helpful_yes    4915.00000          1.31109       41.61916          0.00000          0.00000          0.00000          0.00000       1952.00000\n",
       "total_vote     4915.00000          1.52146       44.12309          0.00000          0.00000          0.00000          0.00000       2020.00000"
      ]
     },
     "execution_count": 8,
     "metadata": {},
     "output_type": "execute_result"
    }
   ],
   "source": [
    "df.describe().T"
   ]
  },
  {
   "cell_type": "code",
   "execution_count": 9,
   "id": "77df3f21-38da-4ac3-b736-8828ce48c2a9",
   "metadata": {},
   "outputs": [
    {
     "data": {
      "text/plain": [
       "B007WTAJTO    4915\n",
       "Name: asin, dtype: int64"
      ]
     },
     "execution_count": 9,
     "metadata": {},
     "output_type": "execute_result"
    }
   ],
   "source": [
    "df['asin'].value_counts()"
   ]
  },
  {
   "cell_type": "markdown",
   "id": "6be9bda6-53cf-4908-9d64-0956c7ebe5ad",
   "metadata": {},
   "source": [
    "# Task 1: Calculate the Average Rating based on current comments and compare it with the existing average rating"
   ]
  },
  {
   "cell_type": "markdown",
   "id": "c9fcbfdf-00b5-4840-9947-96d0f9e6e288",
   "metadata": {},
   "source": [
    "## Step 1: Calculate the average score of the product."
   ]
  },
  {
   "cell_type": "code",
   "execution_count": 10,
   "id": "ab8e7245-b6ee-4faf-902d-10bf4e0cc425",
   "metadata": {},
   "outputs": [
    {
     "data": {
      "text/plain": [
       "4.587589013224822"
      ]
     },
     "execution_count": 10,
     "metadata": {},
     "output_type": "execute_result"
    }
   ],
   "source": [
    "df['overall'].mean()"
   ]
  },
  {
   "cell_type": "markdown",
   "id": "21d62562-9360-4dd4-ba7f-34f30edaee87",
   "metadata": {},
   "source": [
    "## Step 2: Calculate the weighted average score by date"
   ]
  },
  {
   "cell_type": "code",
   "execution_count": 11,
   "id": "7cd8d3c3-3914-4cac-bc6a-4a741e08171c",
   "metadata": {},
   "outputs": [
    {
     "data": {
      "text/plain": [
       "'2014-12-07'"
      ]
     },
     "execution_count": 11,
     "metadata": {},
     "output_type": "execute_result"
    }
   ],
   "source": [
    "df[\"reviewTime\"].max()"
   ]
  },
  {
   "cell_type": "code",
   "execution_count": 12,
   "id": "e19dab79-8203-4255-9e25-9688e2951dd0",
   "metadata": {},
   "outputs": [],
   "source": [
    "df[\"reviewTime\"] = pd.to_datetime(df[\"reviewTime\"], dayfirst=True)\n",
    "current_date = pd.to_datetime(\"2014-12-07\")\n",
    "\n",
    "df[\"days\"] = (current_date - df[\"reviewTime\"]).dt.days"
   ]
  },
  {
   "cell_type": "code",
   "execution_count": 13,
   "id": "4a713bfb-9567-4ada-a239-c14eba0ca9e8",
   "metadata": {},
   "outputs": [
    {
     "data": {
      "text/plain": [
       "count   4915.00000\n",
       "mean     436.36704\n",
       "std      209.43987\n",
       "min        0.00000\n",
       "25%      280.00000\n",
       "50%      430.00000\n",
       "75%      600.00000\n",
       "max     1063.00000\n",
       "Name: days, dtype: float64"
      ]
     },
     "execution_count": 13,
     "metadata": {},
     "output_type": "execute_result"
    }
   ],
   "source": [
    "df.days.describe().T"
   ]
  },
  {
   "cell_type": "code",
   "execution_count": 14,
   "id": "9e5abea4-979e-4cca-bf7e-56d57a18b797",
   "metadata": {},
   "outputs": [],
   "source": [
    "q_1 = df[\"days\"].quantile(0.25)"
   ]
  },
  {
   "cell_type": "code",
   "execution_count": 15,
   "id": "bb0283d9-1f5c-43b2-8095-128fa5b92ff9",
   "metadata": {},
   "outputs": [],
   "source": [
    "q_2 = df[\"days\"].quantile(0.50)"
   ]
  },
  {
   "cell_type": "code",
   "execution_count": 16,
   "id": "ed2ffddf-c9fd-4499-9e4d-474a74ec44e7",
   "metadata": {},
   "outputs": [],
   "source": [
    "q_3 = df[\"days\"].quantile(0.75)"
   ]
  },
  {
   "cell_type": "code",
   "execution_count": 17,
   "id": "9d0c7c3b-96eb-4432-8477-2d625ecedc27",
   "metadata": {},
   "outputs": [
    {
     "name": "stdout",
     "output_type": "stream",
     "text": [
      "4.6957928802588995\n"
     ]
    }
   ],
   "source": [
    "print(df.loc[(df[\"days\"] <= q_1), \"overall\"].mean())"
   ]
  },
  {
   "cell_type": "code",
   "execution_count": 27,
   "id": "0da064d0-de28-4464-bf3e-aff13fef4b17",
   "metadata": {},
   "outputs": [
    {
     "name": "stdout",
     "output_type": "stream",
     "text": [
      "4.637335526315789\n"
     ]
    }
   ],
   "source": [
    "print(df.loc[(df[\"days\"] > q_1) & (df[\"day_diff\"] <= q_2), \"overall\"].mean())"
   ]
  },
  {
   "cell_type": "code",
   "execution_count": 28,
   "id": "d946a66a-a600-46aa-b2b0-f51e71a28d87",
   "metadata": {},
   "outputs": [
    {
     "name": "stdout",
     "output_type": "stream",
     "text": [
      "4.571428571428571\n"
     ]
    }
   ],
   "source": [
    "print(df.loc[(df[\"days\"] > q_2) & (df[\"day_diff\"] <= q_3), \"overall\"].mean())"
   ]
  },
  {
   "cell_type": "code",
   "execution_count": 29,
   "id": "6125ca5f-67c3-4363-a730-148f9cf99cd7",
   "metadata": {},
   "outputs": [
    {
     "name": "stdout",
     "output_type": "stream",
     "text": [
      "4.4462540716612375\n"
     ]
    }
   ],
   "source": [
    "print(df.loc[(df[\"days\"] > q_3), \"overall\"].mean())"
   ]
  },
  {
   "cell_type": "markdown",
   "id": "0a695563-8b04-4125-925f-057d0f108bca",
   "metadata": {},
   "source": [
    "## Step 3: Compare and interpret the average of each time period in weighted scoring."
   ]
  },
  {
   "cell_type": "raw",
   "id": "b38ce986-0b1f-471f-8e13-8d28b86eb560",
   "metadata": {},
   "source": [
    "As seen between time periods, there are no big differences. But as the number of days increases, a decrease is seen in the overall variable. If we are only going to comment on the days, the values given to the product decrease according to the increase in the time. And the raw score of the product can be found by starting from the averages given in 600> days."
   ]
  },
  {
   "cell_type": "markdown",
   "id": "d1368743-63cc-4bbb-8489-8b981dd4e89f",
   "metadata": {},
   "source": [
    "# Task 2: Determine the 20 reviews to be displayed on the product detail page for the product."
   ]
  },
  {
   "cell_type": "markdown",
   "id": "f3ab5803-c957-486a-83d1-6cc6c188c3d1",
   "metadata": {},
   "source": [
    "## Step 1: Generate the helpful_no variable."
   ]
  },
  {
   "cell_type": "code",
   "execution_count": 30,
   "id": "ecd13246-2643-46ec-ad37-35d9d7b29a42",
   "metadata": {},
   "outputs": [],
   "source": [
    "df[\"helpful_no\"] = df[\"total_vote\"] - df[\"helpful_yes\"]"
   ]
  },
  {
   "cell_type": "code",
   "execution_count": 31,
   "id": "99a3dfdb-1dae-4c27-9fa9-e20b6b8ed4a7",
   "metadata": {},
   "outputs": [
    {
     "data": {
      "text/html": [
       "<div>\n",
       "<style scoped>\n",
       "    .dataframe tbody tr th:only-of-type {\n",
       "        vertical-align: middle;\n",
       "    }\n",
       "\n",
       "    .dataframe tbody tr th {\n",
       "        vertical-align: top;\n",
       "    }\n",
       "\n",
       "    .dataframe thead th {\n",
       "        text-align: right;\n",
       "    }\n",
       "</style>\n",
       "<table border=\"1\" class=\"dataframe\">\n",
       "  <thead>\n",
       "    <tr style=\"text-align: right;\">\n",
       "      <th></th>\n",
       "      <th>reviewerID</th>\n",
       "      <th>asin</th>\n",
       "      <th>reviewerName</th>\n",
       "      <th>helpful</th>\n",
       "      <th>reviewText</th>\n",
       "      <th>overall</th>\n",
       "      <th>summary</th>\n",
       "      <th>unixReviewTime</th>\n",
       "      <th>reviewTime</th>\n",
       "      <th>day_diff</th>\n",
       "      <th>helpful_yes</th>\n",
       "      <th>total_vote</th>\n",
       "      <th>days</th>\n",
       "      <th>helpful_no</th>\n",
       "    </tr>\n",
       "  </thead>\n",
       "  <tbody>\n",
       "    <tr>\n",
       "      <th>0</th>\n",
       "      <td>A3SBTW3WS4IQSN</td>\n",
       "      <td>B007WTAJTO</td>\n",
       "      <td>NaN</td>\n",
       "      <td>[0, 0]</td>\n",
       "      <td>No issues.</td>\n",
       "      <td>4.00000</td>\n",
       "      <td>Four Stars</td>\n",
       "      <td>1406073600</td>\n",
       "      <td>2014-07-23</td>\n",
       "      <td>138</td>\n",
       "      <td>0</td>\n",
       "      <td>0</td>\n",
       "      <td>137</td>\n",
       "      <td>0</td>\n",
       "    </tr>\n",
       "    <tr>\n",
       "      <th>1</th>\n",
       "      <td>A18K1ODH1I2MVB</td>\n",
       "      <td>B007WTAJTO</td>\n",
       "      <td>0mie</td>\n",
       "      <td>[0, 0]</td>\n",
       "      <td>Purchased this for my device, it worked as adv...</td>\n",
       "      <td>5.00000</td>\n",
       "      <td>MOAR SPACE!!!</td>\n",
       "      <td>1382659200</td>\n",
       "      <td>2013-10-25</td>\n",
       "      <td>409</td>\n",
       "      <td>0</td>\n",
       "      <td>0</td>\n",
       "      <td>408</td>\n",
       "      <td>0</td>\n",
       "    </tr>\n",
       "    <tr>\n",
       "      <th>2</th>\n",
       "      <td>A2FII3I2MBMUIA</td>\n",
       "      <td>B007WTAJTO</td>\n",
       "      <td>1K3</td>\n",
       "      <td>[0, 0]</td>\n",
       "      <td>it works as expected. I should have sprung for...</td>\n",
       "      <td>4.00000</td>\n",
       "      <td>nothing to really say....</td>\n",
       "      <td>1356220800</td>\n",
       "      <td>2012-12-23</td>\n",
       "      <td>715</td>\n",
       "      <td>0</td>\n",
       "      <td>0</td>\n",
       "      <td>714</td>\n",
       "      <td>0</td>\n",
       "    </tr>\n",
       "    <tr>\n",
       "      <th>3</th>\n",
       "      <td>A3H99DFEG68SR</td>\n",
       "      <td>B007WTAJTO</td>\n",
       "      <td>1m2</td>\n",
       "      <td>[0, 0]</td>\n",
       "      <td>This think has worked out great.Had a diff. br...</td>\n",
       "      <td>5.00000</td>\n",
       "      <td>Great buy at this price!!!  *** UPDATE</td>\n",
       "      <td>1384992000</td>\n",
       "      <td>2013-11-21</td>\n",
       "      <td>382</td>\n",
       "      <td>0</td>\n",
       "      <td>0</td>\n",
       "      <td>381</td>\n",
       "      <td>0</td>\n",
       "    </tr>\n",
       "    <tr>\n",
       "      <th>4</th>\n",
       "      <td>A375ZM4U047O79</td>\n",
       "      <td>B007WTAJTO</td>\n",
       "      <td>2&amp;amp;1/2Men</td>\n",
       "      <td>[0, 0]</td>\n",
       "      <td>Bought it with Retail Packaging, arrived legit...</td>\n",
       "      <td>5.00000</td>\n",
       "      <td>best deal around</td>\n",
       "      <td>1373673600</td>\n",
       "      <td>2013-07-13</td>\n",
       "      <td>513</td>\n",
       "      <td>0</td>\n",
       "      <td>0</td>\n",
       "      <td>512</td>\n",
       "      <td>0</td>\n",
       "    </tr>\n",
       "  </tbody>\n",
       "</table>\n",
       "</div>"
      ],
      "text/plain": [
       "       reviewerID        asin  reviewerName helpful                                         reviewText  overall                                 summary  unixReviewTime reviewTime  day_diff  helpful_yes  total_vote  days  helpful_no\n",
       "0  A3SBTW3WS4IQSN  B007WTAJTO           NaN  [0, 0]                                         No issues.  4.00000                              Four Stars      1406073600 2014-07-23       138            0           0   137           0\n",
       "1  A18K1ODH1I2MVB  B007WTAJTO          0mie  [0, 0]  Purchased this for my device, it worked as adv...  5.00000                           MOAR SPACE!!!      1382659200 2013-10-25       409            0           0   408           0\n",
       "2  A2FII3I2MBMUIA  B007WTAJTO           1K3  [0, 0]  it works as expected. I should have sprung for...  4.00000               nothing to really say....      1356220800 2012-12-23       715            0           0   714           0\n",
       "3   A3H99DFEG68SR  B007WTAJTO           1m2  [0, 0]  This think has worked out great.Had a diff. br...  5.00000  Great buy at this price!!!  *** UPDATE      1384992000 2013-11-21       382            0           0   381           0\n",
       "4  A375ZM4U047O79  B007WTAJTO  2&amp;1/2Men  [0, 0]  Bought it with Retail Packaging, arrived legit...  5.00000                        best deal around      1373673600 2013-07-13       513            0           0   512           0"
      ]
     },
     "execution_count": 31,
     "metadata": {},
     "output_type": "execute_result"
    }
   ],
   "source": [
    "df.head()"
   ]
  },
  {
   "cell_type": "code",
   "execution_count": 32,
   "id": "76450f14-71b0-4b63-8b25-00f552258fed",
   "metadata": {},
   "outputs": [
    {
     "data": {
      "text/html": [
       "<div>\n",
       "<style scoped>\n",
       "    .dataframe tbody tr th:only-of-type {\n",
       "        vertical-align: middle;\n",
       "    }\n",
       "\n",
       "    .dataframe tbody tr th {\n",
       "        vertical-align: top;\n",
       "    }\n",
       "\n",
       "    .dataframe thead th {\n",
       "        text-align: right;\n",
       "    }\n",
       "</style>\n",
       "<table border=\"1\" class=\"dataframe\">\n",
       "  <thead>\n",
       "    <tr style=\"text-align: right;\">\n",
       "      <th></th>\n",
       "      <th>overall</th>\n",
       "      <th>reviewTime</th>\n",
       "      <th>day_diff</th>\n",
       "      <th>helpful_yes</th>\n",
       "      <th>helpful_no</th>\n",
       "      <th>total_vote</th>\n",
       "    </tr>\n",
       "  </thead>\n",
       "  <tbody>\n",
       "    <tr>\n",
       "      <th>0</th>\n",
       "      <td>4.00000</td>\n",
       "      <td>2014-07-23</td>\n",
       "      <td>138</td>\n",
       "      <td>0</td>\n",
       "      <td>0</td>\n",
       "      <td>0</td>\n",
       "    </tr>\n",
       "    <tr>\n",
       "      <th>1</th>\n",
       "      <td>5.00000</td>\n",
       "      <td>2013-10-25</td>\n",
       "      <td>409</td>\n",
       "      <td>0</td>\n",
       "      <td>0</td>\n",
       "      <td>0</td>\n",
       "    </tr>\n",
       "    <tr>\n",
       "      <th>2</th>\n",
       "      <td>4.00000</td>\n",
       "      <td>2012-12-23</td>\n",
       "      <td>715</td>\n",
       "      <td>0</td>\n",
       "      <td>0</td>\n",
       "      <td>0</td>\n",
       "    </tr>\n",
       "    <tr>\n",
       "      <th>3</th>\n",
       "      <td>5.00000</td>\n",
       "      <td>2013-11-21</td>\n",
       "      <td>382</td>\n",
       "      <td>0</td>\n",
       "      <td>0</td>\n",
       "      <td>0</td>\n",
       "    </tr>\n",
       "    <tr>\n",
       "      <th>4</th>\n",
       "      <td>5.00000</td>\n",
       "      <td>2013-07-13</td>\n",
       "      <td>513</td>\n",
       "      <td>0</td>\n",
       "      <td>0</td>\n",
       "      <td>0</td>\n",
       "    </tr>\n",
       "  </tbody>\n",
       "</table>\n",
       "</div>"
      ],
      "text/plain": [
       "   overall reviewTime  day_diff  helpful_yes  helpful_no  total_vote\n",
       "0  4.00000 2014-07-23       138            0           0           0\n",
       "1  5.00000 2013-10-25       409            0           0           0\n",
       "2  4.00000 2012-12-23       715            0           0           0\n",
       "3  5.00000 2013-11-21       382            0           0           0\n",
       "4  5.00000 2013-07-13       513            0           0           0"
      ]
     },
     "execution_count": 32,
     "metadata": {},
     "output_type": "execute_result"
    }
   ],
   "source": [
    "df = df[[\"overall\", \"reviewTime\", \"day_diff\", \"helpful_yes\", \"helpful_no\",\"total_vote\"]]\n",
    "df.head()"
   ]
  },
  {
   "cell_type": "markdown",
   "id": "f2bf4d17-6d08-4d3b-ac5f-cd5f3eea2982",
   "metadata": {},
   "source": [
    "## Step 2: Calculate score_pos_neg_diff, score_average_rating and wilson_lower_bound scores and add them to the data"
   ]
  },
  {
   "cell_type": "code",
   "execution_count": 33,
   "id": "d62e58bb-b85c-4e9f-87a9-df820a7c5a25",
   "metadata": {},
   "outputs": [],
   "source": [
    "def wilson_lower_bound(up, down, confidence=0.95):\n",
    "    \"\"\"\n",
    "    Calculate Wilson Lower Bound Score\n",
    "    - The lower limit of the confidence interval to be calculated for the Bernoulli parameter p is accepted as the WLB score.\n",
    "    - The score to be calculated is used for product ranking.\n",
    "    - Note:\n",
    "    If the scores are between 1-5, 1-3 are marked as negative, 4-5 as positive and can be adapted to bernoulli. This brings with it some problems. For this reason, it is necessary to make a bayesian average rating.\n",
    "    \n",
    "    Parameters\n",
    "    ----------\n",
    "    up: int\n",
    "        up count\n",
    "    down: int\n",
    "        down count\n",
    "    confidence: float\n",
    "        confidence\n",
    "    Returns\n",
    "    -------\n",
    "    wilson score: float\n",
    "    \"\"\"\n",
    "    n = up + down\n",
    "    if n == 0:\n",
    "        return 0\n",
    "    z = st.norm.ppf(1 - (1 - confidence) / 2)\n",
    "    phat = 1.0 * up / n\n",
    "    return (phat + z * z / (2 * n) - z * math.sqrt((phat * (1 - phat) + z * z / (4 * n)) / n)) / (1 + z * z / n)"
   ]
  },
  {
   "cell_type": "code",
   "execution_count": 34,
   "id": "6e4dd071-6878-4f38-92f9-bf701e17216b",
   "metadata": {},
   "outputs": [],
   "source": [
    "def score_up_down_diff(up, down):\n",
    "    return up - down"
   ]
  },
  {
   "cell_type": "code",
   "execution_count": 35,
   "id": "7725e03f-d036-43da-8561-239d5e1e3b4d",
   "metadata": {},
   "outputs": [],
   "source": [
    "def score_average_rating(up, down):\n",
    "    if up + down == 0:\n",
    "        return 0\n",
    "    return up / (up + down)"
   ]
  },
  {
   "cell_type": "code",
   "execution_count": 36,
   "id": "999a9d63-da09-4426-b0fd-266b38b637b3",
   "metadata": {},
   "outputs": [],
   "source": [
    "df[\"score_pos_neg_diff\"] = df.apply(lambda x: score_up_down_diff(x[\"helpful_yes\"], x[\"helpful_no\"]), axis=1)\n",
    "\n",
    "df[\"score_average_rating\"] = df.apply(lambda x: score_average_rating(x[\"helpful_yes\"], x[\"helpful_no\"]), axis=1)\n",
    "\n",
    "df[\"wilson_lower_bound\"] = df.apply(lambda x: wilson_lower_bound(x[\"helpful_yes\"], x[\"helpful_no\"]), axis=1)"
   ]
  },
  {
   "cell_type": "code",
   "execution_count": 37,
   "id": "66228898-af02-4a81-bc62-83dfeab84f8f",
   "metadata": {},
   "outputs": [
    {
     "data": {
      "text/html": [
       "<div>\n",
       "<style scoped>\n",
       "    .dataframe tbody tr th:only-of-type {\n",
       "        vertical-align: middle;\n",
       "    }\n",
       "\n",
       "    .dataframe tbody tr th {\n",
       "        vertical-align: top;\n",
       "    }\n",
       "\n",
       "    .dataframe thead th {\n",
       "        text-align: right;\n",
       "    }\n",
       "</style>\n",
       "<table border=\"1\" class=\"dataframe\">\n",
       "  <thead>\n",
       "    <tr style=\"text-align: right;\">\n",
       "      <th></th>\n",
       "      <th>overall</th>\n",
       "      <th>reviewTime</th>\n",
       "      <th>day_diff</th>\n",
       "      <th>helpful_yes</th>\n",
       "      <th>helpful_no</th>\n",
       "      <th>total_vote</th>\n",
       "      <th>score_pos_neg_diff</th>\n",
       "      <th>score_average_rating</th>\n",
       "      <th>wilson_lower_bound</th>\n",
       "    </tr>\n",
       "  </thead>\n",
       "  <tbody>\n",
       "    <tr>\n",
       "      <th>0</th>\n",
       "      <td>4.00000</td>\n",
       "      <td>2014-07-23</td>\n",
       "      <td>138</td>\n",
       "      <td>0</td>\n",
       "      <td>0</td>\n",
       "      <td>0</td>\n",
       "      <td>0</td>\n",
       "      <td>0.00000</td>\n",
       "      <td>0.00000</td>\n",
       "    </tr>\n",
       "    <tr>\n",
       "      <th>1</th>\n",
       "      <td>5.00000</td>\n",
       "      <td>2013-10-25</td>\n",
       "      <td>409</td>\n",
       "      <td>0</td>\n",
       "      <td>0</td>\n",
       "      <td>0</td>\n",
       "      <td>0</td>\n",
       "      <td>0.00000</td>\n",
       "      <td>0.00000</td>\n",
       "    </tr>\n",
       "    <tr>\n",
       "      <th>2</th>\n",
       "      <td>4.00000</td>\n",
       "      <td>2012-12-23</td>\n",
       "      <td>715</td>\n",
       "      <td>0</td>\n",
       "      <td>0</td>\n",
       "      <td>0</td>\n",
       "      <td>0</td>\n",
       "      <td>0.00000</td>\n",
       "      <td>0.00000</td>\n",
       "    </tr>\n",
       "    <tr>\n",
       "      <th>3</th>\n",
       "      <td>5.00000</td>\n",
       "      <td>2013-11-21</td>\n",
       "      <td>382</td>\n",
       "      <td>0</td>\n",
       "      <td>0</td>\n",
       "      <td>0</td>\n",
       "      <td>0</td>\n",
       "      <td>0.00000</td>\n",
       "      <td>0.00000</td>\n",
       "    </tr>\n",
       "    <tr>\n",
       "      <th>4</th>\n",
       "      <td>5.00000</td>\n",
       "      <td>2013-07-13</td>\n",
       "      <td>513</td>\n",
       "      <td>0</td>\n",
       "      <td>0</td>\n",
       "      <td>0</td>\n",
       "      <td>0</td>\n",
       "      <td>0.00000</td>\n",
       "      <td>0.00000</td>\n",
       "    </tr>\n",
       "  </tbody>\n",
       "</table>\n",
       "</div>"
      ],
      "text/plain": [
       "   overall reviewTime  day_diff  helpful_yes  helpful_no  total_vote  score_pos_neg_diff  score_average_rating  wilson_lower_bound\n",
       "0  4.00000 2014-07-23       138            0           0           0                   0               0.00000             0.00000\n",
       "1  5.00000 2013-10-25       409            0           0           0                   0               0.00000             0.00000\n",
       "2  4.00000 2012-12-23       715            0           0           0                   0               0.00000             0.00000\n",
       "3  5.00000 2013-11-21       382            0           0           0                   0               0.00000             0.00000\n",
       "4  5.00000 2013-07-13       513            0           0           0                   0               0.00000             0.00000"
      ]
     },
     "execution_count": 37,
     "metadata": {},
     "output_type": "execute_result"
    }
   ],
   "source": [
    "df.head()"
   ]
  },
  {
   "cell_type": "markdown",
   "id": "666bafb8-9f5c-458a-aba7-f502e59c3c8f",
   "metadata": {},
   "source": [
    "## Step 3: Identify the 20 Interpretations and Interpret the results."
   ]
  },
  {
   "cell_type": "code",
   "execution_count": 39,
   "id": "187aa397-6e58-442e-b2e3-45de7fb0038b",
   "metadata": {},
   "outputs": [
    {
     "data": {
      "text/html": [
       "<div>\n",
       "<style scoped>\n",
       "    .dataframe tbody tr th:only-of-type {\n",
       "        vertical-align: middle;\n",
       "    }\n",
       "\n",
       "    .dataframe tbody tr th {\n",
       "        vertical-align: top;\n",
       "    }\n",
       "\n",
       "    .dataframe thead th {\n",
       "        text-align: right;\n",
       "    }\n",
       "</style>\n",
       "<table border=\"1\" class=\"dataframe\">\n",
       "  <thead>\n",
       "    <tr style=\"text-align: right;\">\n",
       "      <th></th>\n",
       "      <th>overall</th>\n",
       "      <th>reviewTime</th>\n",
       "      <th>day_diff</th>\n",
       "      <th>helpful_yes</th>\n",
       "      <th>helpful_no</th>\n",
       "      <th>total_vote</th>\n",
       "      <th>score_pos_neg_diff</th>\n",
       "      <th>score_average_rating</th>\n",
       "      <th>wilson_lower_bound</th>\n",
       "    </tr>\n",
       "  </thead>\n",
       "  <tbody>\n",
       "    <tr>\n",
       "      <th>2031</th>\n",
       "      <td>5.00000</td>\n",
       "      <td>2013-01-05</td>\n",
       "      <td>702</td>\n",
       "      <td>1952</td>\n",
       "      <td>68</td>\n",
       "      <td>2020</td>\n",
       "      <td>1884</td>\n",
       "      <td>0.96634</td>\n",
       "      <td>0.95754</td>\n",
       "    </tr>\n",
       "    <tr>\n",
       "      <th>3449</th>\n",
       "      <td>5.00000</td>\n",
       "      <td>2012-09-26</td>\n",
       "      <td>803</td>\n",
       "      <td>1428</td>\n",
       "      <td>77</td>\n",
       "      <td>1505</td>\n",
       "      <td>1351</td>\n",
       "      <td>0.94884</td>\n",
       "      <td>0.93652</td>\n",
       "    </tr>\n",
       "    <tr>\n",
       "      <th>4212</th>\n",
       "      <td>1.00000</td>\n",
       "      <td>2013-05-08</td>\n",
       "      <td>579</td>\n",
       "      <td>1568</td>\n",
       "      <td>126</td>\n",
       "      <td>1694</td>\n",
       "      <td>1442</td>\n",
       "      <td>0.92562</td>\n",
       "      <td>0.91214</td>\n",
       "    </tr>\n",
       "    <tr>\n",
       "      <th>317</th>\n",
       "      <td>1.00000</td>\n",
       "      <td>2012-02-09</td>\n",
       "      <td>1033</td>\n",
       "      <td>422</td>\n",
       "      <td>73</td>\n",
       "      <td>495</td>\n",
       "      <td>349</td>\n",
       "      <td>0.85253</td>\n",
       "      <td>0.81858</td>\n",
       "    </tr>\n",
       "    <tr>\n",
       "      <th>4672</th>\n",
       "      <td>5.00000</td>\n",
       "      <td>2014-07-03</td>\n",
       "      <td>158</td>\n",
       "      <td>45</td>\n",
       "      <td>4</td>\n",
       "      <td>49</td>\n",
       "      <td>41</td>\n",
       "      <td>0.91837</td>\n",
       "      <td>0.80811</td>\n",
       "    </tr>\n",
       "    <tr>\n",
       "      <th>1835</th>\n",
       "      <td>5.00000</td>\n",
       "      <td>2014-02-28</td>\n",
       "      <td>283</td>\n",
       "      <td>60</td>\n",
       "      <td>8</td>\n",
       "      <td>68</td>\n",
       "      <td>52</td>\n",
       "      <td>0.88235</td>\n",
       "      <td>0.78465</td>\n",
       "    </tr>\n",
       "    <tr>\n",
       "      <th>3981</th>\n",
       "      <td>5.00000</td>\n",
       "      <td>2012-10-22</td>\n",
       "      <td>777</td>\n",
       "      <td>112</td>\n",
       "      <td>27</td>\n",
       "      <td>139</td>\n",
       "      <td>85</td>\n",
       "      <td>0.80576</td>\n",
       "      <td>0.73214</td>\n",
       "    </tr>\n",
       "    <tr>\n",
       "      <th>3807</th>\n",
       "      <td>3.00000</td>\n",
       "      <td>2013-02-27</td>\n",
       "      <td>649</td>\n",
       "      <td>22</td>\n",
       "      <td>3</td>\n",
       "      <td>25</td>\n",
       "      <td>19</td>\n",
       "      <td>0.88000</td>\n",
       "      <td>0.70044</td>\n",
       "    </tr>\n",
       "    <tr>\n",
       "      <th>4306</th>\n",
       "      <td>5.00000</td>\n",
       "      <td>2012-09-06</td>\n",
       "      <td>823</td>\n",
       "      <td>51</td>\n",
       "      <td>14</td>\n",
       "      <td>65</td>\n",
       "      <td>37</td>\n",
       "      <td>0.78462</td>\n",
       "      <td>0.67033</td>\n",
       "    </tr>\n",
       "    <tr>\n",
       "      <th>4596</th>\n",
       "      <td>1.00000</td>\n",
       "      <td>2012-09-22</td>\n",
       "      <td>807</td>\n",
       "      <td>82</td>\n",
       "      <td>27</td>\n",
       "      <td>109</td>\n",
       "      <td>55</td>\n",
       "      <td>0.75229</td>\n",
       "      <td>0.66359</td>\n",
       "    </tr>\n",
       "    <tr>\n",
       "      <th>315</th>\n",
       "      <td>5.00000</td>\n",
       "      <td>2012-08-13</td>\n",
       "      <td>847</td>\n",
       "      <td>38</td>\n",
       "      <td>10</td>\n",
       "      <td>48</td>\n",
       "      <td>28</td>\n",
       "      <td>0.79167</td>\n",
       "      <td>0.65741</td>\n",
       "    </tr>\n",
       "    <tr>\n",
       "      <th>1465</th>\n",
       "      <td>4.00000</td>\n",
       "      <td>2014-04-14</td>\n",
       "      <td>238</td>\n",
       "      <td>7</td>\n",
       "      <td>0</td>\n",
       "      <td>7</td>\n",
       "      <td>7</td>\n",
       "      <td>1.00000</td>\n",
       "      <td>0.64567</td>\n",
       "    </tr>\n",
       "    <tr>\n",
       "      <th>1609</th>\n",
       "      <td>5.00000</td>\n",
       "      <td>2014-03-26</td>\n",
       "      <td>257</td>\n",
       "      <td>7</td>\n",
       "      <td>0</td>\n",
       "      <td>7</td>\n",
       "      <td>7</td>\n",
       "      <td>1.00000</td>\n",
       "      <td>0.64567</td>\n",
       "    </tr>\n",
       "    <tr>\n",
       "      <th>4302</th>\n",
       "      <td>5.00000</td>\n",
       "      <td>2014-03-21</td>\n",
       "      <td>262</td>\n",
       "      <td>14</td>\n",
       "      <td>2</td>\n",
       "      <td>16</td>\n",
       "      <td>12</td>\n",
       "      <td>0.87500</td>\n",
       "      <td>0.63977</td>\n",
       "    </tr>\n",
       "    <tr>\n",
       "      <th>4072</th>\n",
       "      <td>5.00000</td>\n",
       "      <td>2012-11-09</td>\n",
       "      <td>759</td>\n",
       "      <td>6</td>\n",
       "      <td>0</td>\n",
       "      <td>6</td>\n",
       "      <td>6</td>\n",
       "      <td>1.00000</td>\n",
       "      <td>0.60967</td>\n",
       "    </tr>\n",
       "    <tr>\n",
       "      <th>1072</th>\n",
       "      <td>5.00000</td>\n",
       "      <td>2012-05-10</td>\n",
       "      <td>942</td>\n",
       "      <td>5</td>\n",
       "      <td>0</td>\n",
       "      <td>5</td>\n",
       "      <td>5</td>\n",
       "      <td>1.00000</td>\n",
       "      <td>0.56552</td>\n",
       "    </tr>\n",
       "    <tr>\n",
       "      <th>2583</th>\n",
       "      <td>5.00000</td>\n",
       "      <td>2013-08-06</td>\n",
       "      <td>489</td>\n",
       "      <td>5</td>\n",
       "      <td>0</td>\n",
       "      <td>5</td>\n",
       "      <td>5</td>\n",
       "      <td>1.00000</td>\n",
       "      <td>0.56552</td>\n",
       "    </tr>\n",
       "    <tr>\n",
       "      <th>121</th>\n",
       "      <td>5.00000</td>\n",
       "      <td>2012-05-09</td>\n",
       "      <td>943</td>\n",
       "      <td>5</td>\n",
       "      <td>0</td>\n",
       "      <td>5</td>\n",
       "      <td>5</td>\n",
       "      <td>1.00000</td>\n",
       "      <td>0.56552</td>\n",
       "    </tr>\n",
       "    <tr>\n",
       "      <th>1142</th>\n",
       "      <td>5.00000</td>\n",
       "      <td>2014-02-04</td>\n",
       "      <td>307</td>\n",
       "      <td>5</td>\n",
       "      <td>0</td>\n",
       "      <td>5</td>\n",
       "      <td>5</td>\n",
       "      <td>1.00000</td>\n",
       "      <td>0.56552</td>\n",
       "    </tr>\n",
       "    <tr>\n",
       "      <th>1753</th>\n",
       "      <td>5.00000</td>\n",
       "      <td>2012-10-22</td>\n",
       "      <td>777</td>\n",
       "      <td>5</td>\n",
       "      <td>0</td>\n",
       "      <td>5</td>\n",
       "      <td>5</td>\n",
       "      <td>1.00000</td>\n",
       "      <td>0.56552</td>\n",
       "    </tr>\n",
       "  </tbody>\n",
       "</table>\n",
       "</div>"
      ],
      "text/plain": [
       "      overall reviewTime  day_diff  helpful_yes  helpful_no  total_vote  score_pos_neg_diff  score_average_rating  wilson_lower_bound\n",
       "2031  5.00000 2013-01-05       702         1952          68        2020                1884               0.96634             0.95754\n",
       "3449  5.00000 2012-09-26       803         1428          77        1505                1351               0.94884             0.93652\n",
       "4212  1.00000 2013-05-08       579         1568         126        1694                1442               0.92562             0.91214\n",
       "317   1.00000 2012-02-09      1033          422          73         495                 349               0.85253             0.81858\n",
       "4672  5.00000 2014-07-03       158           45           4          49                  41               0.91837             0.80811\n",
       "1835  5.00000 2014-02-28       283           60           8          68                  52               0.88235             0.78465\n",
       "3981  5.00000 2012-10-22       777          112          27         139                  85               0.80576             0.73214\n",
       "3807  3.00000 2013-02-27       649           22           3          25                  19               0.88000             0.70044\n",
       "4306  5.00000 2012-09-06       823           51          14          65                  37               0.78462             0.67033\n",
       "4596  1.00000 2012-09-22       807           82          27         109                  55               0.75229             0.66359\n",
       "315   5.00000 2012-08-13       847           38          10          48                  28               0.79167             0.65741\n",
       "1465  4.00000 2014-04-14       238            7           0           7                   7               1.00000             0.64567\n",
       "1609  5.00000 2014-03-26       257            7           0           7                   7               1.00000             0.64567\n",
       "4302  5.00000 2014-03-21       262           14           2          16                  12               0.87500             0.63977\n",
       "4072  5.00000 2012-11-09       759            6           0           6                   6               1.00000             0.60967\n",
       "1072  5.00000 2012-05-10       942            5           0           5                   5               1.00000             0.56552\n",
       "2583  5.00000 2013-08-06       489            5           0           5                   5               1.00000             0.56552\n",
       "121   5.00000 2012-05-09       943            5           0           5                   5               1.00000             0.56552\n",
       "1142  5.00000 2014-02-04       307            5           0           5                   5               1.00000             0.56552\n",
       "1753  5.00000 2012-10-22       777            5           0           5                   5               1.00000             0.56552"
      ]
     },
     "execution_count": 39,
     "metadata": {},
     "output_type": "execute_result"
    }
   ],
   "source": [
    "df.sort_values(\"wilson_lower_bound\", ascending=False)[:20]"
   ]
  },
  {
   "cell_type": "raw",
   "id": "00f3b35d-73ad-48e3-b79f-2043b5e9aed1",
   "metadata": {},
   "source": [
    "-- When we look at the observations at the top, we can see that they have the highest total vote values. We can also interpret that social proof is provided for the evaluated product, which causes it to be at the top of the ranking.\n",
    "\n",
    "-- When we look at the helpful_yes and helpful_no distributions when we pay attention to the observations at the top, we see that the yes values are high.\n",
    "\n",
    "-- Also, when we take a look at the day_diff variable, we see that the products with some values ​​<158, such as 283> appear at the top, which shows us the products with potential. In other words, it will not be a surprise to see the products that will sell the most in the future.\n",
    "\n",
    "-- Finally, when the overall variable is examined, although some products have an average of 1.00, they are at the top of the ranking. This is due to the social proof factor. In other words, the evaluation of a product by a large audience has affected the ranking logic of the product in this list.\n"
   ]
  }
 ],
 "metadata": {
  "kernelspec": {
   "display_name": "Python 3 (ipykernel)",
   "language": "python",
   "name": "python3"
  },
  "language_info": {
   "codemirror_mode": {
    "name": "ipython",
    "version": 3
   },
   "file_extension": ".py",
   "mimetype": "text/x-python",
   "name": "python",
   "nbconvert_exporter": "python",
   "pygments_lexer": "ipython3",
   "version": "3.9.7"
  }
 },
 "nbformat": 4,
 "nbformat_minor": 5
}
